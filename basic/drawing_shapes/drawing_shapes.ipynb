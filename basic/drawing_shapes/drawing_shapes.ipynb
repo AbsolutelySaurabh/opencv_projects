{
 "cells": [
  {
   "cell_type": "code",
   "execution_count": 1,
   "metadata": {},
   "outputs": [],
   "source": [
    "#Drawing Black Square:\n",
    "\n",
    "import cv2\n",
    "import numpy as np\n",
    "\n",
    "#create a black image ( H, W, BGR/RGB)\n",
    "image = np.zeros((512, 512, 3), np.uint8)\n",
    "\n",
    "#making this in black and white\n",
    "image_bw = np.zeros((512, 512), np.uint8)\n",
    "\n",
    "#will look same\n",
    "cv2.imshow(\"Black Rectangle (Color)\", image)\n",
    "cv2.imshow(\"Black Rectangle (B&W)\", image_bw)\n",
    "\n",
    "cv2.waitKey(0)\n",
    "cv2.destroyAllWindows()"
   ]
  },
  {
   "cell_type": "code",
   "execution_count": 2,
   "metadata": {},
   "outputs": [],
   "source": [
    "#draw line over the black square\n",
    "#with thickness of 5 pixels, diagonally\n",
    "\n",
    "import cv2\n",
    "import numpy as np\n",
    "\n",
    "image = np.zeros((512, 512, 3), np.uint8)\n",
    "\n",
    "#(image, startPos, endPos, (B, G, R), thickness in pixels)\n",
    "cv2.line(image, (0, 0), (511, 511), (255, 127, 0), 5)\n",
    "cv2.imshow(\"Blue Line: \", image)\n",
    "\n",
    "cv2.waitKey(0)\n",
    "cv2.destroyAllWindows()"
   ]
  },
  {
   "cell_type": "code",
   "execution_count": null,
   "metadata": {},
   "outputs": [],
   "source": [
    "#Similarly can draw rectangle, squares, circle, write text"
   ]
  },
  {
   "cell_type": "code",
   "execution_count": 4,
   "metadata": {},
   "outputs": [],
   "source": [
    "#writing text\n",
    "image = np.zeros((512, 512, 3), np.uint8)\n",
    "\n",
    "#start, thickness, colors\n",
    "#other font types also available\n",
    "cv2.putText(image, 'Appsomniac!',(75, 290), cv2.FONT_HERSHEY_COMPLEX, 2, (100,170, 0), 3)\n",
    "cv2.imshow(\"appsomniac's image\", image)\n",
    "cv2.waitKey(0)\n",
    "cv2.destroyAllWindows()"
   ]
  }
 ],
 "metadata": {
  "kernelspec": {
   "display_name": "Python 2",
   "language": "python",
   "name": "python2"
  },
  "language_info": {
   "codemirror_mode": {
    "name": "ipython",
    "version": 2
   },
   "file_extension": ".py",
   "mimetype": "text/x-python",
   "name": "python",
   "nbconvert_exporter": "python",
   "pygments_lexer": "ipython2",
   "version": "2.7.12"
  }
 },
 "nbformat": 4,
 "nbformat_minor": 2
}
